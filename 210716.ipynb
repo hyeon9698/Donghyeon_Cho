{
  "nbformat": 4,
  "nbformat_minor": 0,
  "metadata": {
    "colab": {
      "name": "Untitled13.ipynb",
      "provenance": [],
      "collapsed_sections": [],
      "authorship_tag": "ABX9TyM1N7T2SraUKcmjRsi3zCQs",
      "include_colab_link": true
    },
    "kernelspec": {
      "name": "python3",
      "display_name": "Python 3"
    },
    "language_info": {
      "name": "python"
    },
    "accelerator": "GPU"
  },
  "cells": [
    {
      "cell_type": "markdown",
      "metadata": {
        "id": "view-in-github",
        "colab_type": "text"
      },
      "source": [
        "<a href=\"https://colab.research.google.com/github/hyeon9698/Donghyeon_Cho/blob/main/210716.ipynb\" target=\"_parent\"><img src=\"https://colab.research.google.com/assets/colab-badge.svg\" alt=\"Open In Colab\"/></a>"
      ]
    },
    {
      "cell_type": "code",
      "metadata": {
        "colab": {
          "base_uri": "https://localhost:8080/"
        },
        "id": "CakwLQyfWppg",
        "outputId": "77a71840-3dc7-4799-cd40-9a8e6c408c36"
      },
      "source": [
        "!pip install shap"
      ],
      "execution_count": null,
      "outputs": [
        {
          "output_type": "stream",
          "text": [
            "Requirement already satisfied: shap in /usr/local/lib/python3.7/dist-packages (0.39.0)\n",
            "Requirement already satisfied: scipy in /usr/local/lib/python3.7/dist-packages (from shap) (1.4.1)\n",
            "Requirement already satisfied: slicer==0.0.7 in /usr/local/lib/python3.7/dist-packages (from shap) (0.0.7)\n",
            "Requirement already satisfied: numba in /usr/local/lib/python3.7/dist-packages (from shap) (0.51.2)\n",
            "Requirement already satisfied: cloudpickle in /usr/local/lib/python3.7/dist-packages (from shap) (1.3.0)\n",
            "Requirement already satisfied: pandas in /usr/local/lib/python3.7/dist-packages (from shap) (1.1.5)\n",
            "Requirement already satisfied: scikit-learn in /usr/local/lib/python3.7/dist-packages (from shap) (0.22.2.post1)\n",
            "Requirement already satisfied: numpy in /usr/local/lib/python3.7/dist-packages (from shap) (1.19.5)\n",
            "Requirement already satisfied: tqdm>4.25.0 in /usr/local/lib/python3.7/dist-packages (from shap) (4.41.1)\n",
            "Requirement already satisfied: llvmlite<0.35,>=0.34.0.dev0 in /usr/local/lib/python3.7/dist-packages (from numba->shap) (0.34.0)\n",
            "Requirement already satisfied: setuptools in /usr/local/lib/python3.7/dist-packages (from numba->shap) (57.0.0)\n",
            "Requirement already satisfied: python-dateutil>=2.7.3 in /usr/local/lib/python3.7/dist-packages (from pandas->shap) (2.8.1)\n",
            "Requirement already satisfied: pytz>=2017.2 in /usr/local/lib/python3.7/dist-packages (from pandas->shap) (2018.9)\n",
            "Requirement already satisfied: joblib>=0.11 in /usr/local/lib/python3.7/dist-packages (from scikit-learn->shap) (1.0.1)\n",
            "Requirement already satisfied: six>=1.5 in /usr/local/lib/python3.7/dist-packages (from python-dateutil>=2.7.3->pandas->shap) (1.15.0)\n"
          ],
          "name": "stdout"
        }
      ]
    },
    {
      "cell_type": "code",
      "metadata": {
        "id": "UQeM8slayw2s"
      },
      "source": [
        "# -*- coding: utf-8 -*-\n",
        "\"\"\"\n",
        "Created on Tue Sep 18 19:03:22 2018\n",
        "\n",
        "@author: BTHANISH\n",
        "\"\"\"\n",
        "\n",
        "import os\n",
        "import numpy as np\n",
        "import pandas as pd\n",
        "from sklearn.preprocessing import LabelEncoder\n",
        "from sklearn.model_selection import train_test_split, StratifiedKFold, GridSearchCV\n",
        "from sklearn.linear_model import LogisticRegression\n",
        "from sklearn.ensemble import RandomForestClassifier, GradientBoostingClassifier\n",
        "from sklearn import svm\n",
        "from sklearn.metrics import confusion_matrix, accuracy_score, roc_auc_score\n",
        "import shap\n",
        "import xgboost as xgb\n",
        "import lightgbm as lgb\n",
        "import seaborn as sns\n",
        "import matplotlib.pyplot as plt"
      ],
      "execution_count": null,
      "outputs": []
    },
    {
      "cell_type": "code",
      "metadata": {
        "id": "putvctn7y4cS"
      },
      "source": [
        "#Reading the train and test files\n",
        "train_prod_df = pd.read_csv('train.csv')\n",
        "test_prod_df = pd.read_csv('test.csv')"
      ],
      "execution_count": null,
      "outputs": []
    },
    {
      "cell_type": "code",
      "metadata": {
        "colab": {
          "base_uri": "https://localhost:8080/",
          "height": 437
        },
        "id": "BHGas1Y7l1m_",
        "outputId": "2138e3f2-d7db-4f7d-d310-54913676cb4c"
      },
      "source": [
        "train_prod_df"
      ],
      "execution_count": null,
      "outputs": [
        {
          "output_type": "execute_result",
          "data": {
            "text/html": [
              "<div>\n",
              "<style scoped>\n",
              "    .dataframe tbody tr th:only-of-type {\n",
              "        vertical-align: middle;\n",
              "    }\n",
              "\n",
              "    .dataframe tbody tr th {\n",
              "        vertical-align: top;\n",
              "    }\n",
              "\n",
              "    .dataframe thead th {\n",
              "        text-align: right;\n",
              "    }\n",
              "</style>\n",
              "<table border=\"1\" class=\"dataframe\">\n",
              "  <thead>\n",
              "    <tr style=\"text-align: right;\">\n",
              "      <th></th>\n",
              "      <th>inst_id</th>\n",
              "      <th>OC</th>\n",
              "      <th>sido</th>\n",
              "      <th>sgg</th>\n",
              "      <th>openDate</th>\n",
              "      <th>bedCount</th>\n",
              "      <th>instkind</th>\n",
              "      <th>revenue1</th>\n",
              "      <th>salescost1</th>\n",
              "      <th>sga1</th>\n",
              "      <th>salary1</th>\n",
              "      <th>noi1</th>\n",
              "      <th>noe1</th>\n",
              "      <th>interest1</th>\n",
              "      <th>ctax1</th>\n",
              "      <th>profit1</th>\n",
              "      <th>liquidAsset1</th>\n",
              "      <th>quickAsset1</th>\n",
              "      <th>receivableS1</th>\n",
              "      <th>inventoryAsset1</th>\n",
              "      <th>nonCAsset1</th>\n",
              "      <th>tanAsset1</th>\n",
              "      <th>OnonCAsset1</th>\n",
              "      <th>receivableL1</th>\n",
              "      <th>debt1</th>\n",
              "      <th>liquidLiabilities1</th>\n",
              "      <th>shortLoan1</th>\n",
              "      <th>NCLiabilities1</th>\n",
              "      <th>longLoan1</th>\n",
              "      <th>netAsset1</th>\n",
              "      <th>surplus1</th>\n",
              "      <th>revenue2</th>\n",
              "      <th>salescost2</th>\n",
              "      <th>sga2</th>\n",
              "      <th>salary2</th>\n",
              "      <th>noi2</th>\n",
              "      <th>noe2</th>\n",
              "      <th>interest2</th>\n",
              "      <th>ctax2</th>\n",
              "      <th>profit2</th>\n",
              "      <th>liquidAsset2</th>\n",
              "      <th>quickAsset2</th>\n",
              "      <th>receivableS2</th>\n",
              "      <th>inventoryAsset2</th>\n",
              "      <th>nonCAsset2</th>\n",
              "      <th>tanAsset2</th>\n",
              "      <th>OnonCAsset2</th>\n",
              "      <th>receivableL2</th>\n",
              "      <th>debt2</th>\n",
              "      <th>liquidLiabilities2</th>\n",
              "      <th>shortLoan2</th>\n",
              "      <th>NCLiabilities2</th>\n",
              "      <th>longLoan2</th>\n",
              "      <th>netAsset2</th>\n",
              "      <th>surplus2</th>\n",
              "      <th>employee1</th>\n",
              "      <th>employee2</th>\n",
              "      <th>ownerChange</th>\n",
              "    </tr>\n",
              "  </thead>\n",
              "  <tbody>\n",
              "    <tr>\n",
              "      <th>0</th>\n",
              "      <td>1</td>\n",
              "      <td>open</td>\n",
              "      <td>choongnam</td>\n",
              "      <td>73</td>\n",
              "      <td>20071228</td>\n",
              "      <td>175.0</td>\n",
              "      <td>nursing_hospital</td>\n",
              "      <td>4.217530e+09</td>\n",
              "      <td>0.000000e+00</td>\n",
              "      <td>3.961135e+09</td>\n",
              "      <td>2.033835e+09</td>\n",
              "      <td>15652441.0</td>\n",
              "      <td>1.523624e+07</td>\n",
              "      <td>1.323624e+07</td>\n",
              "      <td>31641798.0</td>\n",
              "      <td>2.251697e+08</td>\n",
              "      <td>1.012700e+09</td>\n",
              "      <td>9.976719e+08</td>\n",
              "      <td>4.700557e+08</td>\n",
              "      <td>1.502781e+07</td>\n",
              "      <td>2.514586e+09</td>\n",
              "      <td>2.360684e+09</td>\n",
              "      <td>1.434496e+08</td>\n",
              "      <td>0.0</td>\n",
              "      <td>6.828260e+08</td>\n",
              "      <td>2.013237e+08</td>\n",
              "      <td>0.000000e+00</td>\n",
              "      <td>4.815023e+08</td>\n",
              "      <td>3.510000e+08</td>\n",
              "      <td>2.844460e+09</td>\n",
              "      <td>1.496394e+09</td>\n",
              "      <td>4.297848e+09</td>\n",
              "      <td>0.000000e+00</td>\n",
              "      <td>4.057422e+09</td>\n",
              "      <td>2.063787e+09</td>\n",
              "      <td>16194675.0</td>\n",
              "      <td>2.998335e+07</td>\n",
              "      <td>1.568305e+07</td>\n",
              "      <td>18808074.0</td>\n",
              "      <td>2.078297e+08</td>\n",
              "      <td>8.301695e+08</td>\n",
              "      <td>8.165705e+08</td>\n",
              "      <td>5.237026e+08</td>\n",
              "      <td>1.359897e+07</td>\n",
              "      <td>2.548115e+09</td>\n",
              "      <td>2.386263e+09</td>\n",
              "      <td>1.458986e+08</td>\n",
              "      <td>0.0</td>\n",
              "      <td>7.589937e+08</td>\n",
              "      <td>2.228769e+08</td>\n",
              "      <td>0.000000e+00</td>\n",
              "      <td>5.361169e+08</td>\n",
              "      <td>3.900000e+08</td>\n",
              "      <td>2.619290e+09</td>\n",
              "      <td>1.271224e+09</td>\n",
              "      <td>62.0</td>\n",
              "      <td>64.0</td>\n",
              "      <td>same</td>\n",
              "    </tr>\n",
              "    <tr>\n",
              "      <th>1</th>\n",
              "      <td>3</td>\n",
              "      <td>open</td>\n",
              "      <td>gyeongnam</td>\n",
              "      <td>32</td>\n",
              "      <td>19970401</td>\n",
              "      <td>410.0</td>\n",
              "      <td>general_hospital</td>\n",
              "      <td>NaN</td>\n",
              "      <td>NaN</td>\n",
              "      <td>NaN</td>\n",
              "      <td>NaN</td>\n",
              "      <td>NaN</td>\n",
              "      <td>NaN</td>\n",
              "      <td>NaN</td>\n",
              "      <td>NaN</td>\n",
              "      <td>NaN</td>\n",
              "      <td>NaN</td>\n",
              "      <td>NaN</td>\n",
              "      <td>NaN</td>\n",
              "      <td>NaN</td>\n",
              "      <td>NaN</td>\n",
              "      <td>NaN</td>\n",
              "      <td>NaN</td>\n",
              "      <td>NaN</td>\n",
              "      <td>NaN</td>\n",
              "      <td>NaN</td>\n",
              "      <td>NaN</td>\n",
              "      <td>NaN</td>\n",
              "      <td>NaN</td>\n",
              "      <td>NaN</td>\n",
              "      <td>NaN</td>\n",
              "      <td>NaN</td>\n",
              "      <td>NaN</td>\n",
              "      <td>NaN</td>\n",
              "      <td>NaN</td>\n",
              "      <td>NaN</td>\n",
              "      <td>NaN</td>\n",
              "      <td>NaN</td>\n",
              "      <td>NaN</td>\n",
              "      <td>NaN</td>\n",
              "      <td>NaN</td>\n",
              "      <td>NaN</td>\n",
              "      <td>NaN</td>\n",
              "      <td>NaN</td>\n",
              "      <td>NaN</td>\n",
              "      <td>NaN</td>\n",
              "      <td>NaN</td>\n",
              "      <td>NaN</td>\n",
              "      <td>NaN</td>\n",
              "      <td>NaN</td>\n",
              "      <td>NaN</td>\n",
              "      <td>NaN</td>\n",
              "      <td>NaN</td>\n",
              "      <td>NaN</td>\n",
              "      <td>NaN</td>\n",
              "      <td>801.0</td>\n",
              "      <td>813.0</td>\n",
              "      <td>same</td>\n",
              "    </tr>\n",
              "    <tr>\n",
              "      <th>2</th>\n",
              "      <td>4</td>\n",
              "      <td>open</td>\n",
              "      <td>gyeonggi</td>\n",
              "      <td>89</td>\n",
              "      <td>20161228</td>\n",
              "      <td>468.0</td>\n",
              "      <td>nursing_hospital</td>\n",
              "      <td>1.004522e+09</td>\n",
              "      <td>5.154837e+08</td>\n",
              "      <td>4.472197e+08</td>\n",
              "      <td>2.964023e+08</td>\n",
              "      <td>76156.0</td>\n",
              "      <td>3.000000e+04</td>\n",
              "      <td>0.000000e+00</td>\n",
              "      <td>0.0</td>\n",
              "      <td>4.186475e+07</td>\n",
              "      <td>2.724421e+08</td>\n",
              "      <td>2.536822e+08</td>\n",
              "      <td>8.095950e+06</td>\n",
              "      <td>1.875997e+07</td>\n",
              "      <td>1.204810e+08</td>\n",
              "      <td>1.204810e+08</td>\n",
              "      <td>0.000000e+00</td>\n",
              "      <td>0.0</td>\n",
              "      <td>9.241434e+07</td>\n",
              "      <td>9.241434e+07</td>\n",
              "      <td>0.000000e+00</td>\n",
              "      <td>0.000000e+00</td>\n",
              "      <td>0.000000e+00</td>\n",
              "      <td>3.005088e+08</td>\n",
              "      <td>0.000000e+00</td>\n",
              "      <td>0.000000e+00</td>\n",
              "      <td>0.000000e+00</td>\n",
              "      <td>0.000000e+00</td>\n",
              "      <td>0.000000e+00</td>\n",
              "      <td>0.0</td>\n",
              "      <td>0.000000e+00</td>\n",
              "      <td>0.000000e+00</td>\n",
              "      <td>0.0</td>\n",
              "      <td>0.000000e+00</td>\n",
              "      <td>0.000000e+00</td>\n",
              "      <td>0.000000e+00</td>\n",
              "      <td>0.000000e+00</td>\n",
              "      <td>0.000000e+00</td>\n",
              "      <td>0.000000e+00</td>\n",
              "      <td>0.000000e+00</td>\n",
              "      <td>0.000000e+00</td>\n",
              "      <td>0.0</td>\n",
              "      <td>0.000000e+00</td>\n",
              "      <td>0.000000e+00</td>\n",
              "      <td>0.000000e+00</td>\n",
              "      <td>0.000000e+00</td>\n",
              "      <td>0.000000e+00</td>\n",
              "      <td>0.000000e+00</td>\n",
              "      <td>0.000000e+00</td>\n",
              "      <td>234.0</td>\n",
              "      <td>1.0</td>\n",
              "      <td>same</td>\n",
              "    </tr>\n",
              "    <tr>\n",
              "      <th>3</th>\n",
              "      <td>7</td>\n",
              "      <td>open</td>\n",
              "      <td>incheon</td>\n",
              "      <td>141</td>\n",
              "      <td>20000814</td>\n",
              "      <td>353.0</td>\n",
              "      <td>general_hospital</td>\n",
              "      <td>7.250734e+10</td>\n",
              "      <td>0.000000e+00</td>\n",
              "      <td>7.067740e+10</td>\n",
              "      <td>3.178605e+10</td>\n",
              "      <td>506223059.0</td>\n",
              "      <td>1.259568e+09</td>\n",
              "      <td>1.196881e+09</td>\n",
              "      <td>173769780.0</td>\n",
              "      <td>9.028303e+08</td>\n",
              "      <td>1.304154e+10</td>\n",
              "      <td>1.153475e+10</td>\n",
              "      <td>0.000000e+00</td>\n",
              "      <td>1.506793e+09</td>\n",
              "      <td>4.317936e+10</td>\n",
              "      <td>3.832078e+10</td>\n",
              "      <td>3.945208e+09</td>\n",
              "      <td>0.0</td>\n",
              "      <td>4.236380e+10</td>\n",
              "      <td>2.799188e+10</td>\n",
              "      <td>1.988520e+10</td>\n",
              "      <td>1.437192e+10</td>\n",
              "      <td>7.253040e+09</td>\n",
              "      <td>1.385710e+10</td>\n",
              "      <td>8.643659e+09</td>\n",
              "      <td>6.685834e+10</td>\n",
              "      <td>0.000000e+00</td>\n",
              "      <td>6.492419e+10</td>\n",
              "      <td>2.971135e+10</td>\n",
              "      <td>476807804.0</td>\n",
              "      <td>1.353672e+09</td>\n",
              "      <td>1.277422e+09</td>\n",
              "      <td>218891720.0</td>\n",
              "      <td>8.383875e+08</td>\n",
              "      <td>1.112572e+10</td>\n",
              "      <td>9.890540e+09</td>\n",
              "      <td>0.000000e+00</td>\n",
              "      <td>1.235181e+09</td>\n",
              "      <td>3.958356e+10</td>\n",
              "      <td>3.485576e+10</td>\n",
              "      <td>3.915906e+09</td>\n",
              "      <td>0.0</td>\n",
              "      <td>3.775501e+10</td>\n",
              "      <td>1.701860e+10</td>\n",
              "      <td>9.219427e+09</td>\n",
              "      <td>2.073641e+10</td>\n",
              "      <td>1.510000e+10</td>\n",
              "      <td>1.295427e+10</td>\n",
              "      <td>7.740829e+09</td>\n",
              "      <td>663.0</td>\n",
              "      <td>663.0</td>\n",
              "      <td>same</td>\n",
              "    </tr>\n",
              "    <tr>\n",
              "      <th>4</th>\n",
              "      <td>9</td>\n",
              "      <td>open</td>\n",
              "      <td>gyeongnam</td>\n",
              "      <td>32</td>\n",
              "      <td>20050901</td>\n",
              "      <td>196.0</td>\n",
              "      <td>general_hospital</td>\n",
              "      <td>4.904354e+10</td>\n",
              "      <td>0.000000e+00</td>\n",
              "      <td>4.765605e+10</td>\n",
              "      <td>2.446078e+10</td>\n",
              "      <td>112352259.0</td>\n",
              "      <td>1.419089e+09</td>\n",
              "      <td>1.307249e+09</td>\n",
              "      <td>0.0</td>\n",
              "      <td>8.074970e+07</td>\n",
              "      <td>6.317084e+09</td>\n",
              "      <td>5.873265e+09</td>\n",
              "      <td>4.099320e+09</td>\n",
              "      <td>4.438186e+08</td>\n",
              "      <td>4.366733e+10</td>\n",
              "      <td>4.330613e+10</td>\n",
              "      <td>2.223400e+08</td>\n",
              "      <td>0.0</td>\n",
              "      <td>4.989811e+10</td>\n",
              "      <td>2.890919e+10</td>\n",
              "      <td>1.793038e+10</td>\n",
              "      <td>2.098892e+10</td>\n",
              "      <td>1.350000e+10</td>\n",
              "      <td>8.631164e+07</td>\n",
              "      <td>9.025550e+09</td>\n",
              "      <td>4.808280e+10</td>\n",
              "      <td>0.000000e+00</td>\n",
              "      <td>4.712580e+10</td>\n",
              "      <td>2.346004e+10</td>\n",
              "      <td>597748128.0</td>\n",
              "      <td>1.522108e+09</td>\n",
              "      <td>1.349851e+09</td>\n",
              "      <td>0.0</td>\n",
              "      <td>3.264258e+07</td>\n",
              "      <td>4.906776e+09</td>\n",
              "      <td>4.464017e+09</td>\n",
              "      <td>3.365227e+09</td>\n",
              "      <td>4.427591e+08</td>\n",
              "      <td>4.653138e+10</td>\n",
              "      <td>4.562945e+10</td>\n",
              "      <td>7.893407e+08</td>\n",
              "      <td>0.0</td>\n",
              "      <td>5.143259e+10</td>\n",
              "      <td>3.007259e+10</td>\n",
              "      <td>1.759375e+10</td>\n",
              "      <td>2.136001e+10</td>\n",
              "      <td>1.410803e+10</td>\n",
              "      <td>5.561941e+06</td>\n",
              "      <td>9.025550e+09</td>\n",
              "      <td>206.0</td>\n",
              "      <td>197.0</td>\n",
              "      <td>same</td>\n",
              "    </tr>\n",
              "    <tr>\n",
              "      <th>...</th>\n",
              "      <td>...</td>\n",
              "      <td>...</td>\n",
              "      <td>...</td>\n",
              "      <td>...</td>\n",
              "      <td>...</td>\n",
              "      <td>...</td>\n",
              "      <td>...</td>\n",
              "      <td>...</td>\n",
              "      <td>...</td>\n",
              "      <td>...</td>\n",
              "      <td>...</td>\n",
              "      <td>...</td>\n",
              "      <td>...</td>\n",
              "      <td>...</td>\n",
              "      <td>...</td>\n",
              "      <td>...</td>\n",
              "      <td>...</td>\n",
              "      <td>...</td>\n",
              "      <td>...</td>\n",
              "      <td>...</td>\n",
              "      <td>...</td>\n",
              "      <td>...</td>\n",
              "      <td>...</td>\n",
              "      <td>...</td>\n",
              "      <td>...</td>\n",
              "      <td>...</td>\n",
              "      <td>...</td>\n",
              "      <td>...</td>\n",
              "      <td>...</td>\n",
              "      <td>...</td>\n",
              "      <td>...</td>\n",
              "      <td>...</td>\n",
              "      <td>...</td>\n",
              "      <td>...</td>\n",
              "      <td>...</td>\n",
              "      <td>...</td>\n",
              "      <td>...</td>\n",
              "      <td>...</td>\n",
              "      <td>...</td>\n",
              "      <td>...</td>\n",
              "      <td>...</td>\n",
              "      <td>...</td>\n",
              "      <td>...</td>\n",
              "      <td>...</td>\n",
              "      <td>...</td>\n",
              "      <td>...</td>\n",
              "      <td>...</td>\n",
              "      <td>...</td>\n",
              "      <td>...</td>\n",
              "      <td>...</td>\n",
              "      <td>...</td>\n",
              "      <td>...</td>\n",
              "      <td>...</td>\n",
              "      <td>...</td>\n",
              "      <td>...</td>\n",
              "      <td>...</td>\n",
              "      <td>...</td>\n",
              "      <td>...</td>\n",
              "    </tr>\n",
              "    <tr>\n",
              "      <th>296</th>\n",
              "      <td>422</td>\n",
              "      <td>open</td>\n",
              "      <td>jeonnam</td>\n",
              "      <td>178</td>\n",
              "      <td>20050211</td>\n",
              "      <td>214.0</td>\n",
              "      <td>nursing_hospital</td>\n",
              "      <td>7.614697e+09</td>\n",
              "      <td>4.153475e+08</td>\n",
              "      <td>5.903119e+09</td>\n",
              "      <td>3.467861e+09</td>\n",
              "      <td>42098974.0</td>\n",
              "      <td>7.439421e+08</td>\n",
              "      <td>1.875761e+08</td>\n",
              "      <td>0.0</td>\n",
              "      <td>5.943868e+08</td>\n",
              "      <td>2.776603e+09</td>\n",
              "      <td>2.769516e+09</td>\n",
              "      <td>1.797116e+09</td>\n",
              "      <td>7.086391e+06</td>\n",
              "      <td>1.191266e+10</td>\n",
              "      <td>1.171868e+10</td>\n",
              "      <td>1.198567e+08</td>\n",
              "      <td>0.0</td>\n",
              "      <td>8.715369e+09</td>\n",
              "      <td>1.520004e+09</td>\n",
              "      <td>0.000000e+00</td>\n",
              "      <td>7.195366e+09</td>\n",
              "      <td>5.930000e+09</td>\n",
              "      <td>5.973889e+09</td>\n",
              "      <td>1.406028e+09</td>\n",
              "      <td>7.068816e+09</td>\n",
              "      <td>4.057855e+08</td>\n",
              "      <td>6.755147e+09</td>\n",
              "      <td>3.768952e+09</td>\n",
              "      <td>90318167.0</td>\n",
              "      <td>2.090078e+08</td>\n",
              "      <td>1.966598e+08</td>\n",
              "      <td>51608640.0</td>\n",
              "      <td>-2.624151e+08</td>\n",
              "      <td>2.550562e+09</td>\n",
              "      <td>2.542336e+09</td>\n",
              "      <td>1.962693e+09</td>\n",
              "      <td>8.225698e+06</td>\n",
              "      <td>1.225271e+10</td>\n",
              "      <td>1.210466e+10</td>\n",
              "      <td>7.685672e+07</td>\n",
              "      <td>0.0</td>\n",
              "      <td>9.423771e+09</td>\n",
              "      <td>2.618201e+09</td>\n",
              "      <td>0.000000e+00</td>\n",
              "      <td>6.805570e+09</td>\n",
              "      <td>5.930000e+09</td>\n",
              "      <td>5.379502e+09</td>\n",
              "      <td>8.116416e+08</td>\n",
              "      <td>193.0</td>\n",
              "      <td>141.0</td>\n",
              "      <td>same</td>\n",
              "    </tr>\n",
              "    <tr>\n",
              "      <th>297</th>\n",
              "      <td>423</td>\n",
              "      <td>close</td>\n",
              "      <td>choongnam</td>\n",
              "      <td>159</td>\n",
              "      <td>20140618</td>\n",
              "      <td>NaN</td>\n",
              "      <td>hospital</td>\n",
              "      <td>6.717144e+09</td>\n",
              "      <td>8.200000e+09</td>\n",
              "      <td>0.000000e+00</td>\n",
              "      <td>0.000000e+00</td>\n",
              "      <td>186359.0</td>\n",
              "      <td>1.398513e+08</td>\n",
              "      <td>1.296975e+08</td>\n",
              "      <td>0.0</td>\n",
              "      <td>-1.622521e+09</td>\n",
              "      <td>0.000000e+00</td>\n",
              "      <td>0.000000e+00</td>\n",
              "      <td>0.000000e+00</td>\n",
              "      <td>0.000000e+00</td>\n",
              "      <td>0.000000e+00</td>\n",
              "      <td>0.000000e+00</td>\n",
              "      <td>0.000000e+00</td>\n",
              "      <td>0.0</td>\n",
              "      <td>0.000000e+00</td>\n",
              "      <td>0.000000e+00</td>\n",
              "      <td>0.000000e+00</td>\n",
              "      <td>0.000000e+00</td>\n",
              "      <td>0.000000e+00</td>\n",
              "      <td>0.000000e+00</td>\n",
              "      <td>0.000000e+00</td>\n",
              "      <td>0.000000e+00</td>\n",
              "      <td>0.000000e+00</td>\n",
              "      <td>0.000000e+00</td>\n",
              "      <td>0.000000e+00</td>\n",
              "      <td>0.0</td>\n",
              "      <td>0.000000e+00</td>\n",
              "      <td>0.000000e+00</td>\n",
              "      <td>0.0</td>\n",
              "      <td>0.000000e+00</td>\n",
              "      <td>0.000000e+00</td>\n",
              "      <td>0.000000e+00</td>\n",
              "      <td>0.000000e+00</td>\n",
              "      <td>0.000000e+00</td>\n",
              "      <td>0.000000e+00</td>\n",
              "      <td>0.000000e+00</td>\n",
              "      <td>0.000000e+00</td>\n",
              "      <td>0.0</td>\n",
              "      <td>0.000000e+00</td>\n",
              "      <td>0.000000e+00</td>\n",
              "      <td>0.000000e+00</td>\n",
              "      <td>0.000000e+00</td>\n",
              "      <td>0.000000e+00</td>\n",
              "      <td>0.000000e+00</td>\n",
              "      <td>0.000000e+00</td>\n",
              "      <td>79.0</td>\n",
              "      <td>79.0</td>\n",
              "      <td>same</td>\n",
              "    </tr>\n",
              "    <tr>\n",
              "      <th>298</th>\n",
              "      <td>426</td>\n",
              "      <td>close</td>\n",
              "      <td>gyeongbuk</td>\n",
              "      <td>107</td>\n",
              "      <td>19830705</td>\n",
              "      <td>NaN</td>\n",
              "      <td>hospital</td>\n",
              "      <td>0.000000e+00</td>\n",
              "      <td>0.000000e+00</td>\n",
              "      <td>5.479428e+07</td>\n",
              "      <td>7.500000e+06</td>\n",
              "      <td>121022160.0</td>\n",
              "      <td>1.379810e+08</td>\n",
              "      <td>1.379810e+08</td>\n",
              "      <td>0.0</td>\n",
              "      <td>-7.175308e+07</td>\n",
              "      <td>3.867238e+09</td>\n",
              "      <td>3.867238e+09</td>\n",
              "      <td>1.132312e+09</td>\n",
              "      <td>0.000000e+00</td>\n",
              "      <td>5.569636e+09</td>\n",
              "      <td>5.419756e+09</td>\n",
              "      <td>6.795734e+07</td>\n",
              "      <td>0.0</td>\n",
              "      <td>6.249466e+09</td>\n",
              "      <td>2.050342e+09</td>\n",
              "      <td>0.000000e+00</td>\n",
              "      <td>4.199124e+09</td>\n",
              "      <td>2.498749e+09</td>\n",
              "      <td>3.187408e+09</td>\n",
              "      <td>0.000000e+00</td>\n",
              "      <td>3.132198e+09</td>\n",
              "      <td>2.971193e+09</td>\n",
              "      <td>3.529793e+08</td>\n",
              "      <td>1.479400e+08</td>\n",
              "      <td>173212032.0</td>\n",
              "      <td>1.330644e+08</td>\n",
              "      <td>1.079726e+08</td>\n",
              "      <td>0.0</td>\n",
              "      <td>-1.518272e+08</td>\n",
              "      <td>4.074622e+09</td>\n",
              "      <td>4.069797e+09</td>\n",
              "      <td>1.132312e+09</td>\n",
              "      <td>4.825310e+06</td>\n",
              "      <td>5.554636e+09</td>\n",
              "      <td>5.419756e+09</td>\n",
              "      <td>5.295734e+07</td>\n",
              "      <td>0.0</td>\n",
              "      <td>6.370097e+09</td>\n",
              "      <td>2.170973e+09</td>\n",
              "      <td>0.000000e+00</td>\n",
              "      <td>4.199124e+09</td>\n",
              "      <td>2.498749e+09</td>\n",
              "      <td>3.259161e+09</td>\n",
              "      <td>0.000000e+00</td>\n",
              "      <td>NaN</td>\n",
              "      <td>NaN</td>\n",
              "      <td>NaN</td>\n",
              "    </tr>\n",
              "    <tr>\n",
              "      <th>299</th>\n",
              "      <td>427</td>\n",
              "      <td>close</td>\n",
              "      <td>gyeonggi</td>\n",
              "      <td>169</td>\n",
              "      <td>20070101</td>\n",
              "      <td>180.0</td>\n",
              "      <td>nursing_hospital</td>\n",
              "      <td>2.116892e+09</td>\n",
              "      <td>2.681748e+08</td>\n",
              "      <td>3.286245e+09</td>\n",
              "      <td>2.231944e+09</td>\n",
              "      <td>123665065.0</td>\n",
              "      <td>5.366919e+08</td>\n",
              "      <td>5.143688e+08</td>\n",
              "      <td>0.0</td>\n",
              "      <td>-1.850554e+09</td>\n",
              "      <td>4.929370e+09</td>\n",
              "      <td>4.910840e+09</td>\n",
              "      <td>2.834734e+07</td>\n",
              "      <td>1.852933e+07</td>\n",
              "      <td>1.196624e+10</td>\n",
              "      <td>4.441451e+09</td>\n",
              "      <td>0.000000e+00</td>\n",
              "      <td>73742310.0</td>\n",
              "      <td>5.804268e+08</td>\n",
              "      <td>7.507060e+09</td>\n",
              "      <td>0.000000e+00</td>\n",
              "      <td>0.000000e+00</td>\n",
              "      <td>0.000000e+00</td>\n",
              "      <td>0.000000e+00</td>\n",
              "      <td>0.000000e+00</td>\n",
              "      <td>4.096872e+09</td>\n",
              "      <td>4.861985e+08</td>\n",
              "      <td>4.750651e+09</td>\n",
              "      <td>2.896997e+09</td>\n",
              "      <td>10545075.0</td>\n",
              "      <td>1.600243e+09</td>\n",
              "      <td>7.461567e+08</td>\n",
              "      <td>0.0</td>\n",
              "      <td>-2.729675e+09</td>\n",
              "      <td>5.896047e+09</td>\n",
              "      <td>5.840526e+09</td>\n",
              "      <td>2.526034e+07</td>\n",
              "      <td>5.552137e+07</td>\n",
              "      <td>1.197633e+10</td>\n",
              "      <td>4.441451e+09</td>\n",
              "      <td>0.000000e+00</td>\n",
              "      <td>65242310.0</td>\n",
              "      <td>6.392336e+08</td>\n",
              "      <td>6.400000e+09</td>\n",
              "      <td>0.000000e+00</td>\n",
              "      <td>0.000000e+00</td>\n",
              "      <td>0.000000e+00</td>\n",
              "      <td>0.000000e+00</td>\n",
              "      <td>0.000000e+00</td>\n",
              "      <td>100.0</td>\n",
              "      <td>NaN</td>\n",
              "      <td>NaN</td>\n",
              "    </tr>\n",
              "    <tr>\n",
              "      <th>300</th>\n",
              "      <td>428</td>\n",
              "      <td>open</td>\n",
              "      <td>seoul</td>\n",
              "      <td>79</td>\n",
              "      <td>20011017</td>\n",
              "      <td>NaN</td>\n",
              "      <td>traditional_hospital</td>\n",
              "      <td>1.340971e+09</td>\n",
              "      <td>8.108450e+08</td>\n",
              "      <td>5.043409e+08</td>\n",
              "      <td>1.318978e+08</td>\n",
              "      <td>2264007.0</td>\n",
              "      <td>7.355850e+07</td>\n",
              "      <td>7.355850e+07</td>\n",
              "      <td>0.0</td>\n",
              "      <td>-4.550929e+07</td>\n",
              "      <td>6.624176e+08</td>\n",
              "      <td>6.197801e+08</td>\n",
              "      <td>1.545963e+07</td>\n",
              "      <td>4.263747e+07</td>\n",
              "      <td>1.024680e+10</td>\n",
              "      <td>1.011968e+10</td>\n",
              "      <td>8.693050e+07</td>\n",
              "      <td>0.0</td>\n",
              "      <td>5.418547e+09</td>\n",
              "      <td>3.187619e+09</td>\n",
              "      <td>0.000000e+00</td>\n",
              "      <td>2.230928e+09</td>\n",
              "      <td>2.190000e+09</td>\n",
              "      <td>5.490668e+09</td>\n",
              "      <td>6.269440e+09</td>\n",
              "      <td>1.499012e+09</td>\n",
              "      <td>8.328015e+08</td>\n",
              "      <td>5.254614e+08</td>\n",
              "      <td>1.333380e+08</td>\n",
              "      <td>4301929.0</td>\n",
              "      <td>9.439391e+07</td>\n",
              "      <td>9.435528e+07</td>\n",
              "      <td>0.0</td>\n",
              "      <td>5.065703e+07</td>\n",
              "      <td>4.969613e+08</td>\n",
              "      <td>4.526867e+08</td>\n",
              "      <td>1.545534e+07</td>\n",
              "      <td>4.427453e+07</td>\n",
              "      <td>1.038822e+10</td>\n",
              "      <td>1.026110e+10</td>\n",
              "      <td>8.693050e+07</td>\n",
              "      <td>0.0</td>\n",
              "      <td>5.349000e+09</td>\n",
              "      <td>3.123072e+09</td>\n",
              "      <td>0.000000e+00</td>\n",
              "      <td>2.225928e+09</td>\n",
              "      <td>2.190000e+09</td>\n",
              "      <td>5.536178e+09</td>\n",
              "      <td>6.269440e+09</td>\n",
              "      <td>15.0</td>\n",
              "      <td>15.0</td>\n",
              "      <td>same</td>\n",
              "    </tr>\n",
              "  </tbody>\n",
              "</table>\n",
              "<p>301 rows × 58 columns</p>\n",
              "</div>"
            ],
            "text/plain": [
              "     inst_id      OC       sido  ...  employee1  employee2  ownerChange\n",
              "0          1    open  choongnam  ...       62.0       64.0         same\n",
              "1          3    open  gyeongnam  ...      801.0      813.0         same\n",
              "2          4    open   gyeonggi  ...      234.0        1.0         same\n",
              "3          7    open    incheon  ...      663.0      663.0         same\n",
              "4          9    open  gyeongnam  ...      206.0      197.0         same\n",
              "..       ...     ...        ...  ...        ...        ...          ...\n",
              "296      422    open    jeonnam  ...      193.0      141.0         same\n",
              "297      423   close  choongnam  ...       79.0       79.0         same\n",
              "298      426   close  gyeongbuk  ...        NaN        NaN          NaN\n",
              "299      427   close   gyeonggi  ...      100.0        NaN          NaN\n",
              "300      428    open      seoul  ...       15.0       15.0         same\n",
              "\n",
              "[301 rows x 58 columns]"
            ]
          },
          "metadata": {
            "tags": []
          },
          "execution_count": 4
        }
      ]
    },
    {
      "cell_type": "code",
      "metadata": {
        "colab": {
          "base_uri": "https://localhost:8080/"
        },
        "id": "y71vuf1mX5vQ",
        "outputId": "57f63b16-f63f-4e78-9461-382447879b2a"
      },
      "source": [
        "train_prod_df.info()"
      ],
      "execution_count": null,
      "outputs": [
        {
          "output_type": "stream",
          "text": [
            "<class 'pandas.core.frame.DataFrame'>\n",
            "RangeIndex: 301 entries, 0 to 300\n",
            "Data columns (total 58 columns):\n",
            " #   Column              Non-Null Count  Dtype  \n",
            "---  ------              --------------  -----  \n",
            " 0   inst_id             301 non-null    int64  \n",
            " 1   OC                  301 non-null    object \n",
            " 2   sido                301 non-null    object \n",
            " 3   sgg                 301 non-null    int64  \n",
            " 4   openDate            301 non-null    int64  \n",
            " 5   bedCount            296 non-null    float64\n",
            " 6   instkind            300 non-null    object \n",
            " 7   revenue1            293 non-null    float64\n",
            " 8   salescost1          293 non-null    float64\n",
            " 9   sga1                293 non-null    float64\n",
            " 10  salary1             293 non-null    float64\n",
            " 11  noi1                293 non-null    float64\n",
            " 12  noe1                293 non-null    float64\n",
            " 13  interest1           293 non-null    float64\n",
            " 14  ctax1               293 non-null    float64\n",
            " 15  profit1             293 non-null    float64\n",
            " 16  liquidAsset1        293 non-null    float64\n",
            " 17  quickAsset1         293 non-null    float64\n",
            " 18  receivableS1        293 non-null    float64\n",
            " 19  inventoryAsset1     293 non-null    float64\n",
            " 20  nonCAsset1          293 non-null    float64\n",
            " 21  tanAsset1           293 non-null    float64\n",
            " 22  OnonCAsset1         293 non-null    float64\n",
            " 23  receivableL1        293 non-null    float64\n",
            " 24  debt1               293 non-null    float64\n",
            " 25  liquidLiabilities1  293 non-null    float64\n",
            " 26  shortLoan1          293 non-null    float64\n",
            " 27  NCLiabilities1      293 non-null    float64\n",
            " 28  longLoan1           293 non-null    float64\n",
            " 29  netAsset1           293 non-null    float64\n",
            " 30  surplus1            293 non-null    float64\n",
            " 31  revenue2            293 non-null    float64\n",
            " 32  salescost2          293 non-null    float64\n",
            " 33  sga2                293 non-null    float64\n",
            " 34  salary2             293 non-null    float64\n",
            " 35  noi2                293 non-null    float64\n",
            " 36  noe2                293 non-null    float64\n",
            " 37  interest2           293 non-null    float64\n",
            " 38  ctax2               293 non-null    float64\n",
            " 39  profit2             293 non-null    float64\n",
            " 40  liquidAsset2        293 non-null    float64\n",
            " 41  quickAsset2         293 non-null    float64\n",
            " 42  receivableS2        293 non-null    float64\n",
            " 43  inventoryAsset2     293 non-null    float64\n",
            " 44  nonCAsset2          293 non-null    float64\n",
            " 45  tanAsset2           293 non-null    float64\n",
            " 46  OnonCAsset2         293 non-null    float64\n",
            " 47  receivableL2        293 non-null    float64\n",
            " 48  debt2               293 non-null    float64\n",
            " 49  liquidLiabilities2  293 non-null    float64\n",
            " 50  shortLoan2          293 non-null    float64\n",
            " 51  NCLiabilities2      293 non-null    float64\n",
            " 52  longLoan2           293 non-null    float64\n",
            " 53  netAsset2           293 non-null    float64\n",
            " 54  surplus2            293 non-null    float64\n",
            " 55  employee1           291 non-null    float64\n",
            " 56  employee2           288 non-null    float64\n",
            " 57  ownerChange         289 non-null    object \n",
            "dtypes: float64(51), int64(3), object(4)\n",
            "memory usage: 136.5+ KB\n"
          ],
          "name": "stdout"
        }
      ]
    },
    {
      "cell_type": "code",
      "metadata": {
        "colab": {
          "base_uri": "https://localhost:8080/"
        },
        "id": "lvN2n7kEZ2KX",
        "outputId": "f8d01e37-8ebe-4ca8-9e92-704c41cf95f9"
      },
      "source": [
        "pd.isnull(train_prod_df).sum() # NULL 확인"
      ],
      "execution_count": null,
      "outputs": [
        {
          "output_type": "execute_result",
          "data": {
            "text/plain": [
              "inst_id                0\n",
              "OC                     0\n",
              "sido                   0\n",
              "sgg                    0\n",
              "openDate               0\n",
              "bedCount               5\n",
              "instkind               1\n",
              "revenue1               8\n",
              "salescost1             8\n",
              "sga1                   8\n",
              "salary1                8\n",
              "noi1                   8\n",
              "noe1                   8\n",
              "interest1              8\n",
              "ctax1                  8\n",
              "profit1                8\n",
              "liquidAsset1           8\n",
              "quickAsset1            8\n",
              "receivableS1           8\n",
              "inventoryAsset1        8\n",
              "nonCAsset1             8\n",
              "tanAsset1              8\n",
              "OnonCAsset1            8\n",
              "receivableL1           8\n",
              "debt1                  8\n",
              "liquidLiabilities1     8\n",
              "shortLoan1             8\n",
              "NCLiabilities1         8\n",
              "longLoan1              8\n",
              "netAsset1              8\n",
              "surplus1               8\n",
              "revenue2               8\n",
              "salescost2             8\n",
              "sga2                   8\n",
              "salary2                8\n",
              "noi2                   8\n",
              "noe2                   8\n",
              "interest2              8\n",
              "ctax2                  8\n",
              "profit2                8\n",
              "liquidAsset2           8\n",
              "quickAsset2            8\n",
              "receivableS2           8\n",
              "inventoryAsset2        8\n",
              "nonCAsset2             8\n",
              "tanAsset2              8\n",
              "OnonCAsset2            8\n",
              "receivableL2           8\n",
              "debt2                  8\n",
              "liquidLiabilities2     8\n",
              "shortLoan2             8\n",
              "NCLiabilities2         8\n",
              "longLoan2              8\n",
              "netAsset2              8\n",
              "surplus2               8\n",
              "employee1             10\n",
              "employee2             13\n",
              "ownerChange           12\n",
              "dtype: int64"
            ]
          },
          "metadata": {
            "tags": []
          },
          "execution_count": 6
        }
      ]
    },
    {
      "cell_type": "markdown",
      "metadata": {
        "id": "R5b_KhamYzR0"
      },
      "source": [
        "# [데이터 설명](https://github.com/thinpig99/dacon-hospitalClose/blob/master/Re-Analysis-201229.ipynb)\n",
        "\n"
      ]
    },
    {
      "cell_type": "code",
      "metadata": {
        "id": "HPzdO8JczHGQ"
      },
      "source": [
        "#Removing the comma in the employee1 and 2 columns in the test dataset and replace it with empty space and convert it to float format.\n",
        "test_prod_df.employee1 = test_prod_df.employee1.astype('str').str.replace(\",\", \"\").astype('float')\n",
        "test_prod_df.employee2 = test_prod_df.employee2.astype('str').str.replace(\",\", \"\").astype('float')"
      ],
      "execution_count": null,
      "outputs": []
    },
    {
      "cell_type": "code",
      "metadata": {
        "id": "nU0YYCEKzIlL"
      },
      "source": [
        "#Converting the employee1 and 2 column as float in the train set as done for the test dataset\n",
        "train_prod_df.employee1 = train_prod_df.employee1.astype('float')\n",
        "train_prod_df.employee2 = train_prod_df.employee2.astype('float')\n",
        "train_prod_df.OC= train_prod_df.OC.astype('str').str.replace(\" \",\"\")"
      ],
      "execution_count": null,
      "outputs": []
    },
    {
      "cell_type": "code",
      "metadata": {
        "colab": {
          "base_uri": "https://localhost:8080/"
        },
        "id": "xv37C0g6jpjF",
        "outputId": "7e1786f8-5058-4300-ef10-66c7e0d82508"
      },
      "source": [
        "#Combining the train and test dataset\n",
        "train_test_prod = train_prod_df.append(test_prod_df)\n",
        "\n",
        "#Get the object and numeric columns seperately \n",
        "factor_columns = train_test_prod.select_dtypes(include = ['object']).columns\n",
        "factor_columns"
      ],
      "execution_count": null,
      "outputs": [
        {
          "output_type": "execute_result",
          "data": {
            "text/plain": [
              "Index(['OC', 'sido', 'instkind', 'ownerChange'], dtype='object')"
            ]
          },
          "metadata": {
            "tags": []
          },
          "execution_count": 19
        }
      ]
    },
    {
      "cell_type": "code",
      "metadata": {
        "colab": {
          "base_uri": "https://localhost:8080/"
        },
        "id": "rWbubks6a4tc",
        "outputId": "29cf292f-3602-456e-931b-417cd0e7a227"
      },
      "source": [
        "# difference - 변수를 분리해주는 pandas 함수\n",
        "numeric_columns = train_test_prod.columns.difference(factor_columns)\n",
        "numeric_columns"
      ],
      "execution_count": null,
      "outputs": [
        {
          "output_type": "execute_result",
          "data": {
            "text/plain": [
              "Index(['NCLiabilities1', 'NCLiabilities2', 'OnonCAsset1', 'OnonCAsset2',\n",
              "       'bedCount', 'ctax1', 'ctax2', 'debt1', 'debt2', 'employee1',\n",
              "       'employee2', 'inst_id', 'interest1', 'interest2', 'inventoryAsset1',\n",
              "       'inventoryAsset2', 'liquidAsset1', 'liquidAsset2', 'liquidLiabilities1',\n",
              "       'liquidLiabilities2', 'longLoan1', 'longLoan2', 'netAsset1',\n",
              "       'netAsset2', 'noe1', 'noe2', 'noi1', 'noi2', 'nonCAsset1', 'nonCAsset2',\n",
              "       'openDate', 'profit1', 'profit2', 'quickAsset1', 'quickAsset2',\n",
              "       'receivableL1', 'receivableL2', 'receivableS1', 'receivableS2',\n",
              "       'revenue1', 'revenue2', 'salary1', 'salary2', 'salescost1',\n",
              "       'salescost2', 'sga1', 'sga2', 'sgg', 'shortLoan1', 'shortLoan2',\n",
              "       'surplus1', 'surplus2', 'tanAsset1', 'tanAsset2'],\n",
              "      dtype='object')"
            ]
          },
          "metadata": {
            "tags": []
          },
          "execution_count": 20
        }
      ]
    },
    {
      "cell_type": "code",
      "metadata": {
        "id": "GX09UAM2cCca"
      },
      "source": [
        "def outliers_iqr(data):\n",
        "    q1, q3 = np.percentile(data, [25, 75])\n",
        "    iqr = q3 - q1\n",
        "    lower_bound = q1 - (iqr * 1.5)\n",
        "    upper_bound = q3 + (iqr * 1.5)\n",
        "    return np.where((data>upper_bound)|(data<lower_bound))"
      ],
      "execution_count": null,
      "outputs": []
    },
    {
      "cell_type": "markdown",
      "metadata": {
        "id": "EldCKdKXenLD"
      },
      "source": [
        "# [iqr 설명 블로그](https://hwi-doc.tistory.com/entry/IQR-%EB%B0%A9%EC%8B%9D%EC%9D%84-%EC%9D%B4%EC%9A%A9%ED%95%9C-%EC%9D%B4%EC%83%81%EC%B9%98-%EB%8D%B0%EC%9D%B4%ED%84%B0Outlier-%EC%A0%9C%EA%B1%B0)"
      ]
    },
    {
      "cell_type": "code",
      "metadata": {
        "colab": {
          "base_uri": "https://localhost:8080/"
        },
        "id": "DDkXx1s7cp__",
        "outputId": "9ed328b3-0b6f-4bc3-da93-8b76ff064a3a"
      },
      "source": [
        "outliers_iqr(test_prod_df.sgg)"
      ],
      "execution_count": null,
      "outputs": [
        {
          "output_type": "execute_result",
          "data": {
            "text/plain": [
              "(array([], dtype=int64),)"
            ]
          },
          "metadata": {
            "tags": []
          },
          "execution_count": 12
        }
      ]
    },
    {
      "cell_type": "code",
      "metadata": {
        "colab": {
          "base_uri": "https://localhost:8080/"
        },
        "id": "nx7xQhRWeWoV",
        "outputId": "22fbe404-c54a-482b-d682-bbf59109cac4"
      },
      "source": [
        "test_prod_df.sgg"
      ],
      "execution_count": null,
      "outputs": [
        {
          "output_type": "execute_result",
          "data": {
            "text/plain": [
              "0      139\n",
              "1      149\n",
              "2      103\n",
              "3       71\n",
              "4       26\n",
              "      ... \n",
              "122     33\n",
              "123     74\n",
              "124    116\n",
              "125     76\n",
              "126    163\n",
              "Name: sgg, Length: 127, dtype: int64"
            ]
          },
          "metadata": {
            "tags": []
          },
          "execution_count": 13
        }
      ]
    },
    {
      "cell_type": "code",
      "metadata": {
        "colab": {
          "base_uri": "https://localhost:8080/"
        },
        "id": "RonD93yFeYep",
        "outputId": "e646d866-ce85-44c5-d2e5-e331f456a11b"
      },
      "source": [
        "test_prod_df.sgg[3] = 999\n",
        "test_prod_df.sgg"
      ],
      "execution_count": null,
      "outputs": [
        {
          "output_type": "stream",
          "text": [
            "\n",
            "A value is trying to be set on a copy of a slice from a DataFrame\n",
            "\n",
            "See the caveats in the documentation: https://pandas.pydata.org/pandas-docs/stable/user_guide/indexing.html#returning-a-view-versus-a-copy\n"
          ],
          "name": "stderr"
        },
        {
          "output_type": "execute_result",
          "data": {
            "text/plain": [
              "0      139\n",
              "1      149\n",
              "2      103\n",
              "3      999\n",
              "4       26\n",
              "      ... \n",
              "122     33\n",
              "123     74\n",
              "124    116\n",
              "125     76\n",
              "126    163\n",
              "Name: sgg, Length: 127, dtype: int64"
            ]
          },
          "metadata": {
            "tags": []
          },
          "execution_count": 14
        }
      ]
    },
    {
      "cell_type": "code",
      "metadata": {
        "colab": {
          "base_uri": "https://localhost:8080/"
        },
        "id": "J_ASZ6S7efAc",
        "outputId": "4ef5cd6a-1897-485b-a944-55c0520a0d63"
      },
      "source": [
        "outliers_iqr(test_prod_df.sgg)"
      ],
      "execution_count": null,
      "outputs": [
        {
          "output_type": "execute_result",
          "data": {
            "text/plain": [
              "(array([3]),)"
            ]
          },
          "metadata": {
            "tags": []
          },
          "execution_count": 15
        }
      ]
    },
    {
      "cell_type": "code",
      "metadata": {
        "id": "cDjLUlgibDfQ"
      },
      "source": [
        "# 이 부분은 이해 잘 못 했음\n",
        "# wrong entries가 있었다는데 왜 -999로 설정을 하지?\n",
        "\n",
        "#After analysis realized that the bed counts of these two hospitals may have had wrong entries.\n",
        "#Filling up the empty instkind and bedCount for hospital id 430 and 413\n",
        "train_test_prod.loc[train_test_prod.inst_id == 430, ['instkind']] = 'dental_clinic'\n",
        "train_test_prod.loc[train_test_prod.inst_id == 430, ['bedCount']] = 0\n",
        "train_test_prod.loc[train_test_prod.inst_id == 413, ['bedCount']] = -999\n",
        "\n",
        "#Fill the empty values in the object columns as \"Not sure\"\n",
        "train_test_prod[factor_columns] = train_test_prod[factor_columns].fillna('Not_sure')\n",
        "\n",
        "#Fill all the empty values in the numeric columns as -999\n",
        "train_test_prod[numeric_columns] = train_test_prod[numeric_columns].fillna(-999)"
      ],
      "execution_count": null,
      "outputs": []
    },
    {
      "cell_type": "code",
      "metadata": {
        "colab": {
          "base_uri": "https://localhost:8080/",
          "height": 417
        },
        "id": "TsdvTZSNjq9X",
        "outputId": "87f1fae2-6eb7-4653-c43e-b85ad6d3ef43"
      },
      "source": [
        "# LabelEncoder의 fit_transform 사용해서 object 객체들을 숫자로 레이블링\n",
        " \n",
        "#Convert all the object columns to numeric since the ML algorithms don't accept object features directly \n",
        "fac_le = LabelEncoder()\n",
        "train_test_prod[factor_columns] = train_test_prod.loc[:,factor_columns].apply(lambda x : fac_le.fit_transform(x))\n",
        "train_test_prod[factor_columns]"
      ],
      "execution_count": null,
      "outputs": [
        {
          "output_type": "execute_result",
          "data": {
            "text/html": [
              "<div>\n",
              "<style scoped>\n",
              "    .dataframe tbody tr th:only-of-type {\n",
              "        vertical-align: middle;\n",
              "    }\n",
              "\n",
              "    .dataframe tbody tr th {\n",
              "        vertical-align: top;\n",
              "    }\n",
              "\n",
              "    .dataframe thead th {\n",
              "        text-align: right;\n",
              "    }\n",
              "</style>\n",
              "<table border=\"1\" class=\"dataframe\">\n",
              "  <thead>\n",
              "    <tr style=\"text-align: right;\">\n",
              "      <th></th>\n",
              "      <th>OC</th>\n",
              "      <th>sido</th>\n",
              "      <th>instkind</th>\n",
              "      <th>ownerChange</th>\n",
              "    </tr>\n",
              "  </thead>\n",
              "  <tbody>\n",
              "    <tr>\n",
              "      <th>0</th>\n",
              "      <td>2</td>\n",
              "      <td>2</td>\n",
              "      <td>5</td>\n",
              "      <td>2</td>\n",
              "    </tr>\n",
              "    <tr>\n",
              "      <th>1</th>\n",
              "      <td>2</td>\n",
              "      <td>9</td>\n",
              "      <td>3</td>\n",
              "      <td>2</td>\n",
              "    </tr>\n",
              "    <tr>\n",
              "      <th>2</th>\n",
              "      <td>2</td>\n",
              "      <td>8</td>\n",
              "      <td>5</td>\n",
              "      <td>2</td>\n",
              "    </tr>\n",
              "    <tr>\n",
              "      <th>3</th>\n",
              "      <td>2</td>\n",
              "      <td>10</td>\n",
              "      <td>3</td>\n",
              "      <td>2</td>\n",
              "    </tr>\n",
              "    <tr>\n",
              "      <th>4</th>\n",
              "      <td>2</td>\n",
              "      <td>9</td>\n",
              "      <td>3</td>\n",
              "      <td>2</td>\n",
              "    </tr>\n",
              "    <tr>\n",
              "      <th>...</th>\n",
              "      <td>...</td>\n",
              "      <td>...</td>\n",
              "      <td>...</td>\n",
              "      <td>...</td>\n",
              "    </tr>\n",
              "    <tr>\n",
              "      <th>122</th>\n",
              "      <td>0</td>\n",
              "      <td>13</td>\n",
              "      <td>6</td>\n",
              "      <td>0</td>\n",
              "    </tr>\n",
              "    <tr>\n",
              "      <th>123</th>\n",
              "      <td>0</td>\n",
              "      <td>8</td>\n",
              "      <td>7</td>\n",
              "      <td>2</td>\n",
              "    </tr>\n",
              "    <tr>\n",
              "      <th>124</th>\n",
              "      <td>0</td>\n",
              "      <td>8</td>\n",
              "      <td>4</td>\n",
              "      <td>0</td>\n",
              "    </tr>\n",
              "    <tr>\n",
              "      <th>125</th>\n",
              "      <td>0</td>\n",
              "      <td>11</td>\n",
              "      <td>2</td>\n",
              "      <td>2</td>\n",
              "    </tr>\n",
              "    <tr>\n",
              "      <th>126</th>\n",
              "      <td>0</td>\n",
              "      <td>1</td>\n",
              "      <td>4</td>\n",
              "      <td>0</td>\n",
              "    </tr>\n",
              "  </tbody>\n",
              "</table>\n",
              "<p>428 rows × 4 columns</p>\n",
              "</div>"
            ],
            "text/plain": [
              "     OC  sido  instkind  ownerChange\n",
              "0     2     2         5            2\n",
              "1     2     9         3            2\n",
              "2     2     8         5            2\n",
              "3     2    10         3            2\n",
              "4     2     9         3            2\n",
              "..   ..   ...       ...          ...\n",
              "122   0    13         6            0\n",
              "123   0     8         7            2\n",
              "124   0     8         4            0\n",
              "125   0    11         2            2\n",
              "126   0     1         4            0\n",
              "\n",
              "[428 rows x 4 columns]"
            ]
          },
          "metadata": {
            "tags": []
          },
          "execution_count": 28
        }
      ]
    },
    {
      "cell_type": "code",
      "metadata": {
        "colab": {
          "base_uri": "https://localhost:8080/"
        },
        "id": "OK8Ik1Bdg-_d",
        "outputId": "647e2ecc-124a-4b99-b3da-796bb9897ca1"
      },
      "source": [
        "train_test_prod.OC.unique()"
      ],
      "execution_count": null,
      "outputs": [
        {
          "output_type": "execute_result",
          "data": {
            "text/plain": [
              "array([2, 1, 0])"
            ]
          },
          "metadata": {
            "tags": []
          },
          "execution_count": 32
        }
      ]
    },
    {
      "cell_type": "code",
      "metadata": {
        "id": "sUtIXlaPgWUO"
      },
      "source": [
        "# OC 기준으로 train, test 나눔\n",
        "\n",
        "#Splitting back data to train prod and test prod\n",
        "train_prod = train_test_prod.loc[train_test_prod.OC != 0,]\n",
        "test_prod = train_test_prod.loc[train_test_prod.OC == 0,]\n",
        "train_prod['OC'] = train_prod['OC'] - 1\n",
        "\n",
        "#Obtain the submission ID to create the submission file later\n",
        "sub_id = test_prod.inst_id\n",
        "\n",
        "#Get the dependent and independent column\n",
        "dep = 'OC'\n",
        "indep = train_prod.columns.difference([dep])\n",
        "\n",
        "\n",
        "train_prod_X = train_prod[indep]\n",
        "train_prod_Y = train_prod[dep]\n",
        "test_prod_X = test_prod[indep]"
      ],
      "execution_count": null,
      "outputs": []
    },
    {
      "cell_type": "code",
      "metadata": {
        "id": "BVZrBIscjrNH"
      },
      "source": [
        "############################################################################\n",
        "############ Random Forest\n",
        "############################################################################\n",
        "estimators = 10\n",
        "np.random.seed(100)\n",
        "RF_prod = RandomForestClassifier(n_estimators = estimators)\n",
        "RF_prod_model = RF_prod.fit(train_prod_X, train_prod_Y)\n",
        "RF_prod_prediction = RF_prod.predict_proba(test_prod_X)[:,1]\n",
        "\n",
        "sub_RF = pd.DataFrame({'inst_id' : sub_id , 'OC' : RF_prod_prediction })\n",
        "sub_RF = sub_RF[['inst_id', 'OC']]"
      ],
      "execution_count": null,
      "outputs": []
    },
    {
      "cell_type": "code",
      "metadata": {
        "id": "3rCLjf14jrQ2"
      },
      "source": [
        "############################################################################\n",
        "############ GBM\n",
        "############################################################################\n",
        "estimators = 10\n",
        "np.random.seed(100)\n",
        "GBM_prod = GradientBoostingClassifier(n_estimators = estimators)\n",
        "GBM_prod_model = GBM_prod.fit(train_prod_X, train_prod_Y)\n",
        "GBM_prod_prediction = GBM_prod.predict_proba(test_prod_X)[:,1]\n",
        "\n",
        "sub_GBM = pd.DataFrame({'inst_id' : sub_id , 'OC' : GBM_prod_prediction })\n",
        "sub_GBM = sub_GBM[['inst_id', 'OC']]"
      ],
      "execution_count": null,
      "outputs": []
    },
    {
      "cell_type": "code",
      "metadata": {
        "id": "khFp7mIYjrUZ"
      },
      "source": [
        "############################################################################\n",
        "############ XGBOOST\n",
        "############################################################################\n",
        "dtrain_prod = xgb.DMatrix(data = train_prod_X, label = train_prod_Y)\n",
        "dtest_prod = xgb.DMatrix(data = test_prod_X)\n",
        "\n",
        "#Custom error function for the XGB model\n",
        "threshold = 0.5\n",
        "#############내가 주석처리함\n",
        "def eval_error(preds, dtrain):\n",
        "    labels = dtrain.get_label()\n",
        "    preds = (threshold).astype('float')\n",
        "    return \"accuracy\", accuracy_score(labels, preds)\n",
        "    \n",
        "\n",
        "param = {'objective' : 'binary:logistic',\n",
        "         'max_depth' : 6,\n",
        "         'eta': 0.3,\n",
        "         'colsample_bytree' : 1,\n",
        "         'subsample' : 1,\n",
        "         'silent' : 0\n",
        "         }\n",
        "\n",
        "nrounds = 2"
      ],
      "execution_count": null,
      "outputs": []
    },
    {
      "cell_type": "code",
      "metadata": {
        "colab": {
          "base_uri": "https://localhost:8080/",
          "height": 297
        },
        "id": "FodFLIAtjrWw",
        "outputId": "ddd4221d-dcbf-46dc-eb0a-9650468f9ab8"
      },
      "source": [
        "np.random.seed(100)\n",
        "xgb_model = xgb.train(param, \n",
        "                      dtrain_prod, \n",
        "                      num_boost_round = nrounds ,\n",
        "                      feval = eval_error,       # 내가 주석처리함\n",
        "                      #maximize = True,\n",
        "                      #early_stopping_rounds = 10,\n",
        "                      )\n",
        "\n",
        "XGB_prediction = xgb_model.predict(dtest_prod)\n",
        "\n",
        "sub_XGB= pd.DataFrame({'inst_id' : sub_id , 'OC' : XGB_prediction })\n",
        "sub_XGB= sub_XGB[['inst_id', 'OC']]\n",
        "  \n",
        "#PLotting the feature importance\n",
        "xgb_Imp = pd.DataFrame({'Features' : list(xgb_model.get_score().keys()), \n",
        "                        'Importance' : list(xgb_model.get_score().values())}).sort_values(['Importance'])\n",
        "plt.figure()\n",
        "sns.barplot(xgb_Imp.Importance, xgb_Imp.Features)\n",
        "plt.show()"
      ],
      "execution_count": null,
      "outputs": [
        {
          "output_type": "stream",
          "text": [
            "Pass the following variables as keyword args: x, y. From version 0.12, the only valid positional argument will be `data`, and passing other arguments without an explicit keyword will result in an error or misinterpretation.\n"
          ],
          "name": "stderr"
        },
        {
          "output_type": "display_data",
          "data": {
            "image/png": "[encoded data removed]",
            "text/plain": [
              "<Figure size 432x288 with 1 Axes>"
            ]
          },
          "metadata": {
            "tags": [],
            "needs_background": "light"
          }
        }
      ]
    },
    {
      "cell_type": "code",
      "metadata": {
        "colab": {
          "base_uri": "https://localhost:8080/"
        },
        "id": "bNBu5XBsjrZt",
        "outputId": "23d737fa-fc24-44fd-8423-3f516ab6471f"
      },
      "source": [
        "############################################################################\n",
        "#Ensembling the three models\n",
        "############################################################################\n",
        "\n",
        "#Forming the ensemble dataset of the 3 models\n",
        "ensemble = pd.DataFrame()\n",
        "ensemble['inst_id'] = sub_XGB['inst_id']\n",
        "ensemble['XGB'] = sub_XGB['OC']\n",
        "ensemble['GBM'] = sub_GBM['OC']\n",
        "ensemble['RF'] = sub_RF['OC']\n",
        "\n",
        "# Taking the average of all 3 models\n",
        "ensemble['ens'] = (ensemble['XGB'] + ensemble['GBM'] + ensemble['RF'])/3\n",
        "ensemble['OC'] = (ensemble['ens']).astype('int') #0.7 as the threshold and above that the hospital is closed.\n",
        "\n",
        "#Printing to see all the hospitals that are classified as closed \n",
        "print(ensemble.loc[ensemble['OC'] == 0, ])\n",
        "\n",
        "ensemble = ensemble.loc[:, ['inst_id', 'OC']]\n",
        "\n",
        "#ensemble.to_csv('ens_XGB_7_RF_4_GBM_2_39.csv', index = False)"
      ],
      "execution_count": null,
      "outputs": [
        {
          "output_type": "stream",
          "text": [
            "     inst_id       XGB       GBM   RF       ens  OC\n",
            "0          2  0.705177  0.966711  0.8  0.823963   0\n",
            "1          5  0.657157  0.443177  0.8  0.633445   0\n",
            "2          6  0.409096  0.666447  0.6  0.558514   0\n",
            "3          8  0.645067  0.976222  0.8  0.807097   0\n",
            "4         10  0.705177  0.966711  0.9  0.857296   0\n",
            "..       ...       ...       ...  ...       ...  ..\n",
            "122      424  0.409096  0.312302  0.3  0.340466   0\n",
            "123      425  0.409096  0.580902  0.7  0.563333   0\n",
            "124      429  0.409096  0.536108  0.7  0.548401   0\n",
            "125      430  0.645067  0.976222  0.9  0.840430   0\n",
            "126      431  0.409096  0.536108  0.6  0.515068   0\n",
            "\n",
            "[127 rows x 6 columns]\n"
          ],
          "name": "stdout"
        }
      ]
    },
    {
      "cell_type": "code",
      "metadata": {
        "id": "HZWRB-mDjrcd"
      },
      "source": [
        ""
      ],
      "execution_count": null,
      "outputs": []
    },
    {
      "cell_type": "code",
      "metadata": {
        "id": "-RIThQDsjrfa"
      },
      "source": [
        ""
      ],
      "execution_count": null,
      "outputs": []
    },
    {
      "cell_type": "code",
      "metadata": {
        "id": "K65ej5eUjriM"
      },
      "source": [
        ""
      ],
      "execution_count": null,
      "outputs": []
    },
    {
      "cell_type": "code",
      "metadata": {
        "id": "rZO8P9L2jrlJ"
      },
      "source": [
        ""
      ],
      "execution_count": null,
      "outputs": []
    },
    {
      "cell_type": "code",
      "metadata": {
        "id": "Q2gDcWE0jrn4"
      },
      "source": [
        ""
      ],
      "execution_count": null,
      "outputs": []
    },
    {
      "cell_type": "code",
      "metadata": {
        "id": "x-L4tLbjZy-Z"
      },
      "source": [
        ""
      ],
      "execution_count": null,
      "outputs": []
    }
  ]
}